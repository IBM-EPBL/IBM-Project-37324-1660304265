{
  "cells": [
    {
      "cell_type": "code",
      "execution_count": null,
      "metadata": {
        "id": "uBToIe5qCzvQ"
      },
      "outputs": [],
      "source": [
        "import pandas as pd\n",
        "import numpy as np\n",
        "import matplotlib.pyplot as plt\n",
        "import seaborn as sns\n",
        "from sklearn.model_selection import train_test_split\n",
        "from sklearn.linear_model import Lasso\n",
        "from sklearn.linear_model import Ridge\n",
        "from sklearn.metrics import mean_squared_error , r2_score\n",
        "import joblib\n",
        "%matplotlib inline"
      ]
    },
    {
      "cell_type": "code",
      "execution_count": null,
      "metadata": {
        "colab": {
          "base_uri": "https://localhost:8080/",
          "height": 206
        },
        "id": "O_ax77fqDKsU",
        "outputId": "61b3fffb-e955-4f6c-f52e-8bd06f51fe97"
      },
      "outputs": [],
      "source": [
        "data = pd.read_csv('https://raw.githubusercontent.com/IBM-EPBL/IBM-Project-37324-1660304265/main/Data%20Collection/wind_dataset.csv')\n",
        "data.rename(columns = {'LV ActivePower (kW)':'ActivePower(kW)',\n",
        "                       \"Wind Speed (m/s)\":\"WindSpeed(m/s)\",\n",
        "                       \"Wind Direction (°)\":\"WindDirection\",\"Theoretical_Power_Curve (KWh)\":\"TheoreticalPowerCurve(KWh)\"},\n",
        "            inplace = True)\n",
        "data.head()"
      ]
    },
    {
      "cell_type": "code",
      "execution_count": null,
      "metadata": {
        "colab": {
          "base_uri": "https://localhost:8080/"
        },
        "id": "ojn1gMlUHxSG",
        "outputId": "71bbef71-ddb3-4eb9-ab37-44b0287869b1"
      },
      "outputs": [],
      "source": [
        "data.shape"
      ]
    },
    {
      "cell_type": "code",
      "execution_count": null,
      "metadata": {
        "colab": {
          "base_uri": "https://localhost:8080/"
        },
        "id": "nLz4IDfFH6sQ",
        "outputId": "1743b247-6a82-4d56-89a1-da18c2a9dc06"
      },
      "outputs": [],
      "source": [
        "data.info()"
      ]
    },
    {
      "cell_type": "code",
      "execution_count": null,
      "metadata": {
        "colab": {
          "base_uri": "https://localhost:8080/"
        },
        "id": "YV3igVZgIGkB",
        "outputId": "20c18c2e-ab9e-41d8-feff-aac6156333ce"
      },
      "outputs": [],
      "source": [
        "data.isnull().any()"
      ]
    },
    {
      "cell_type": "code",
      "execution_count": null,
      "metadata": {
        "colab": {
          "base_uri": "https://localhost:8080/",
          "height": 300
        },
        "id": "9lK6Pjz4Iqzo",
        "outputId": "eb02bec3-8b22-4c21-83cb-88b6f40c5a8a"
      },
      "outputs": [],
      "source": [
        "data.describe()"
      ]
    },
    {
      "cell_type": "markdown",
      "metadata": {
        "id": "_SB-82_y4EJs"
      },
      "source": [
        "## Visualizations"
      ]
    },
    {
      "cell_type": "code",
      "execution_count": null,
      "metadata": {
        "colab": {
          "base_uri": "https://localhost:8080/",
          "height": 743
        },
        "id": "fDqVsAhm4Cre",
        "outputId": "72871f23-6032-4693-8cd8-b6d8e8715db8"
      },
      "outputs": [],
      "source": [
        "sns.pairplot(data);"
      ]
    },
    {
      "cell_type": "code",
      "execution_count": null,
      "metadata": {
        "colab": {
          "base_uri": "https://localhost:8080/",
          "height": 780
        },
        "id": "CcG5UC4_4Oy4",
        "outputId": "8480eefb-be4e-41f1-c2bb-d403a9d67e59"
      },
      "outputs": [],
      "source": [
        "corr = data.corr()\n",
        "plt.figure(figsize=(10, 8))\n",
        "\n",
        "ax = sns.heatmap(corr, vmin = -1, vmax = 1, annot = True)\n",
        "bottom, top = ax.get_ylim()\n",
        "ax.set_ylim(bottom + 0.5, top - 0.5)\n",
        "plt.show()\n",
        "corr"
      ]
    },
    {
      "cell_type": "code",
      "execution_count": null,
      "metadata": {
        "colab": {
          "base_uri": "https://localhost:8080/"
        },
        "id": "lhHRWkKM4hXM",
        "outputId": "186fec59-a8fc-4a84-8d22-3f86b2d8918c"
      },
      "outputs": [],
      "source": [
        "! pip install windrose"
      ]
    },
    {
      "cell_type": "code",
      "execution_count": null,
      "metadata": {
        "colab": {
          "base_uri": "https://localhost:8080/",
          "height": 607
        },
        "id": "BYx5uK5y4jD0",
        "outputId": "1bd9bc95-f71c-443c-9e09-bb8e81420360"
      },
      "outputs": [],
      "source": [
        "from windrose import WindroseAxes\n",
        "\n",
        "ax = WindroseAxes.from_ax()\n",
        "ax.bar(data['WindDirection'], data['WindSpeed(m/s)'], normed=True, opening=0.8, edgecolor='white')\n",
        "ax.set_legend()\n",
        "plt.title(\"Wind Direction (°) VS Wind Speed (m/s)\")\n",
        "plt.show()"
      ]
    },
    {
      "cell_type": "markdown",
      "metadata": {
        "id": "L4eGy_2hGG1Q"
      },
      "source": [
        "## Data Preprocessing"
      ]
    },
    {
      "cell_type": "code",
      "execution_count": null,
      "metadata": {
        "colab": {
          "base_uri": "https://localhost:8080/",
          "height": 206
        },
        "id": "29OBH09OF9zO",
        "outputId": "1464fc03-663d-4590-9b43-b7055246fdf5"
      },
      "outputs": [],
      "source": [
        "data['Date/Time'] = pd.to_datetime(data['Date/Time'],format='%d %m %Y %H:%M')\n",
        "data['year'] = data['Date/Time'].dt.year \n",
        "data['month'] = data['Date/Time'].dt.month \n",
        "data['day'] = data['Date/Time'].dt.day\n",
        "data['Hour'] = data['Date/Time'].dt.hour \n",
        "data['minute'] = data['Date/Time'].dt.minute \n",
        "data.head()"
      ]
    },
    {
      "cell_type": "code",
      "execution_count": null,
      "metadata": {
        "colab": {
          "base_uri": "https://localhost:8080/",
          "height": 585
        },
        "id": "I2YHVc7wGPLV",
        "outputId": "e61d4523-067e-4cc2-e005-f192c2aa0df7"
      },
      "outputs": [],
      "source": [
        "#plotting the data distribution\n",
        "plt.figure(figsize=(10, 8))\n",
        "for i in range(4):\n",
        "    plt.subplot(2, 2, i+1)\n",
        "    sns.kdeplot(data.iloc[:,i+1], shade=True)\n",
        "    plt.title(data.columns[i+1])\n",
        "plt.tight_layout()\n",
        "plt.show()"
      ]
    },
    {
      "cell_type": "code",
      "execution_count": null,
      "metadata": {
        "colab": {
          "base_uri": "https://localhost:8080/",
          "height": 423
        },
        "id": "ZT1_zhWUG5z7",
        "outputId": "e3dffb25-c70d-4155-d5ac-f40dbd9dae52"
      },
      "outputs": [],
      "source": [
        "#Converting the Data/Time feature in proper DateTime format\n",
        "data[\"Date/Time\"] = pd.to_datetime(data[\"Date/Time\"], format = \"%d %m %Y %H:%M\", errors = \"coerce\")\n",
        "data"
      ]
    },
    {
      "cell_type": "code",
      "execution_count": null,
      "metadata": {
        "colab": {
          "base_uri": "https://localhost:8080/",
          "height": 622
        },
        "id": "4ZGRda-YHCWE",
        "outputId": "dd2bdbbb-e1cb-4f2d-de98-50cda7161a4d"
      },
      "outputs": [],
      "source": [
        "#Line Graph of DateTime VS Target variable\n",
        "fig, ax = plt.subplots(figsize=(20,10))\n",
        "\n",
        "# Add x-axis and y-axis\n",
        "ax.plot(data['Date/Time'][0:1000],\n",
        "        data['TheoreticalPowerCurve(KWh)'][0:1000],\n",
        "        color='purple')\n",
        "\n",
        "# Set title and labels for axes\n",
        "ax.set(xlabel=\"Theoretical_Power_Curve\",\n",
        "       ylabel=\"Date/Time\",\n",
        "       title=\"Date/Time vs Theoretical_Power_Curve\")\n",
        "\n",
        "plt.show()"
      ]
    },
    {
      "cell_type": "code",
      "execution_count": null,
      "metadata": {
        "colab": {
          "base_uri": "https://localhost:8080/",
          "height": 206
        },
        "id": "_dzz_c7MHEo7",
        "outputId": "28c753ef-e8ed-48d3-fe62-9f592b6c0d7c"
      },
      "outputs": [],
      "source": [
        "# Droping all the irrelavent features that dosent affect the target variable.\n",
        "cols = [\"WindDirection\", 'year', 'month', \"day\", \"Hour\", \"minute\" ]\n",
        "data = data.drop(cols, axis=1)\n",
        "data.head()"
      ]
    }
  ],
  "metadata": {
    "colab": {
      "collapsed_sections": [],
      "provenance": []
    },
    "kernelspec": {
      "display_name": "Python 3.9.2 64-bit",
      "language": "python",
      "name": "python3"
    },
    "language_info": {
      "name": "python",
      "version": "3.9.2"
    },
    "vscode": {
      "interpreter": {
        "hash": "f06e55c06becedefd7f8fbb61683c0e38d01ebe84ace9943d504570a6295a816"
      }
    }
  },
  "nbformat": 4,
  "nbformat_minor": 0
}
